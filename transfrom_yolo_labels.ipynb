{
 "cells": [
  {
   "cell_type": "code",
   "execution_count": 1,
   "metadata": {},
   "outputs": [],
   "source": [
    "from os import walk\n",
    "from PIL import Image\n",
    "\n",
    "import pandas as pd"
   ]
  },
  {
   "cell_type": "code",
   "execution_count": 2,
   "metadata": {},
   "outputs": [],
   "source": [
    "LABELS_PATH = 'yolov5/runs/detect/exp14/labels'\n",
    "IMG_PATH = 'test'\n",
    "SUBMIT_NUM = '17'"
   ]
  },
  {
   "cell_type": "code",
   "execution_count": 3,
   "metadata": {},
   "outputs": [
    {
     "data": {
      "text/html": [
       "<div>\n",
       "<style scoped>\n",
       "    .dataframe tbody tr th:only-of-type {\n",
       "        vertical-align: middle;\n",
       "    }\n",
       "\n",
       "    .dataframe tbody tr th {\n",
       "        vertical-align: top;\n",
       "    }\n",
       "\n",
       "    .dataframe thead th {\n",
       "        text-align: right;\n",
       "    }\n",
       "</style>\n",
       "<table border=\"1\" class=\"dataframe\">\n",
       "  <thead>\n",
       "    <tr style=\"text-align: right;\">\n",
       "      <th></th>\n",
       "      <th>ID_img</th>\n",
       "      <th>region_shape</th>\n",
       "    </tr>\n",
       "  </thead>\n",
       "  <tbody>\n",
       "    <tr>\n",
       "      <th>0</th>\n",
       "      <td>1.JPG</td>\n",
       "      <td>0</td>\n",
       "    </tr>\n",
       "    <tr>\n",
       "      <th>1</th>\n",
       "      <td>2.JPG</td>\n",
       "      <td>0</td>\n",
       "    </tr>\n",
       "    <tr>\n",
       "      <th>2</th>\n",
       "      <td>3.JPG</td>\n",
       "      <td>0</td>\n",
       "    </tr>\n",
       "  </tbody>\n",
       "</table>\n",
       "</div>"
      ],
      "text/plain": [
       "  ID_img  region_shape\n",
       "0  1.JPG             0\n",
       "1  2.JPG             0\n",
       "2  3.JPG             0"
      ]
     },
     "execution_count": 3,
     "metadata": {},
     "output_type": "execute_result"
    }
   ],
   "source": [
    "solution = pd.read_csv('sample_solution.csv')\n",
    "solution.head(3)"
   ]
  },
  {
   "cell_type": "code",
   "execution_count": 4,
   "metadata": {},
   "outputs": [],
   "source": [
    "images = solution.ID_img\n",
    "region_shapes_list = []\n",
    "for img in images:\n",
    "    img_txt = img.split('.')[0] + '.txt'\n",
    "    try:\n",
    "        with open(f\"{LABELS_PATH}/{img_txt}\") as f:\n",
    "            labels_list = []\n",
    "            with Image.open(f\"{IMG_PATH}/{img}\") as im:\n",
    "                width, height = im.size\n",
    "            # print(img_txt)\n",
    "            # print(width, height)\n",
    "            # for label in f.readlines():\n",
    "            #     cx = int(float(label.split()[1]) * width)\n",
    "            #     cy = int(float(label.split()[2]) * height)\n",
    "            #     w = int(float(label.split()[3]) * width)\n",
    "            #     h = int(float(label.split()[4]) * height)\n",
    "            #     # labels_list.append(f\"{{\\\"cx\\\":{cx},\\\"cy\\\":{cy},\\\"r\\\":{h}}}\")\n",
    "            #     labels_list.append(f\"{{\\\"cx\\\":{cx},\\\"cy\\\":{cy},\\\"r\\\":{max(w,h)}}}\")\n",
    "            #     # labels_list.append(f\"{{\\\"cx\\\":{cx},\\\"cy\\\":{cy},\\\"r\\\":{min(w,h)}}}\")\n",
    "            #     # print(f\"'{{\\\"cx\\\": {cx}, \\\"cy\\\": {cy}, \\\"r\\\": {max(w,h)}}}'\")\n",
    "            #     # print(label)\n",
    "            dict_list = []\n",
    "            for label in f.readlines():\n",
    "                d = {}\n",
    "                d['cx'] = int(float(label.split()[1]) * width)\n",
    "                d['cy'] = int(float(label.split()[2]) * height)\n",
    "                d['w'] = int(float(label.split()[3]) * width)\n",
    "                d['h'] = int(float(label.split()[4]) * height)\n",
    "                dict_list.append(d)\n",
    "            dict_list = sorted(dict_list, key=lambda d: (d['cx'], d['cy']))\n",
    "            labels_list = [f\"{{\\\"cx\\\":{l['cx']},\\\"cy\\\":{l['cy']},\\\"r\\\":{max(l['w'], l['h'])}}}\" for l in dict_list]\n",
    "            # print(dict_list)\n",
    "            # print(labels_list)\n",
    "            region_shapes_list.append(labels_list)\n",
    "    except:\n",
    "        region_shapes_list.append(0)\n",
    "        continue"
   ]
  },
  {
   "cell_type": "code",
   "execution_count": 5,
   "metadata": {},
   "outputs": [
    {
     "data": {
      "text/html": [
       "<div>\n",
       "<style scoped>\n",
       "    .dataframe tbody tr th:only-of-type {\n",
       "        vertical-align: middle;\n",
       "    }\n",
       "\n",
       "    .dataframe tbody tr th {\n",
       "        vertical-align: top;\n",
       "    }\n",
       "\n",
       "    .dataframe thead th {\n",
       "        text-align: right;\n",
       "    }\n",
       "</style>\n",
       "<table border=\"1\" class=\"dataframe\">\n",
       "  <thead>\n",
       "    <tr style=\"text-align: right;\">\n",
       "      <th></th>\n",
       "      <th>ID_img</th>\n",
       "      <th>region_shape</th>\n",
       "    </tr>\n",
       "  </thead>\n",
       "  <tbody>\n",
       "    <tr>\n",
       "      <th>0</th>\n",
       "      <td>1.JPG</td>\n",
       "      <td>0</td>\n",
       "    </tr>\n",
       "    <tr>\n",
       "      <th>1</th>\n",
       "      <td>2.JPG</td>\n",
       "      <td>0</td>\n",
       "    </tr>\n",
       "  </tbody>\n",
       "</table>\n",
       "</div>"
      ],
      "text/plain": [
       "  ID_img region_shape\n",
       "0  1.JPG            0\n",
       "1  2.JPG            0"
      ]
     },
     "execution_count": 5,
     "metadata": {},
     "output_type": "execute_result"
    }
   ],
   "source": [
    "solution.region_shape = region_shapes_list\n",
    "solution.head(2)"
   ]
  },
  {
   "cell_type": "code",
   "execution_count": 6,
   "metadata": {},
   "outputs": [
    {
     "data": {
      "text/html": [
       "<div>\n",
       "<style scoped>\n",
       "    .dataframe tbody tr th:only-of-type {\n",
       "        vertical-align: middle;\n",
       "    }\n",
       "\n",
       "    .dataframe tbody tr th {\n",
       "        vertical-align: top;\n",
       "    }\n",
       "\n",
       "    .dataframe thead th {\n",
       "        text-align: right;\n",
       "    }\n",
       "</style>\n",
       "<table border=\"1\" class=\"dataframe\">\n",
       "  <thead>\n",
       "    <tr style=\"text-align: right;\">\n",
       "      <th></th>\n",
       "      <th>ID_img</th>\n",
       "      <th>region_shape</th>\n",
       "    </tr>\n",
       "  </thead>\n",
       "  <tbody>\n",
       "    <tr>\n",
       "      <th>6</th>\n",
       "      <td>7.JPG</td>\n",
       "      <td>[{\"cx\":515,\"cy\":183,\"r\":16}]</td>\n",
       "    </tr>\n",
       "    <tr>\n",
       "      <th>24</th>\n",
       "      <td>25.JPG</td>\n",
       "      <td>[{\"cx\":501,\"cy\":396,\"r\":35}]</td>\n",
       "    </tr>\n",
       "    <tr>\n",
       "      <th>36</th>\n",
       "      <td>37.JPG</td>\n",
       "      <td>[{\"cx\":1288,\"cy\":2529,\"r\":55}, {\"cx\":1870,\"cy\"...</td>\n",
       "    </tr>\n",
       "    <tr>\n",
       "      <th>38</th>\n",
       "      <td>39.JPG</td>\n",
       "      <td>[{\"cx\":753,\"cy\":13,\"r\":28}]</td>\n",
       "    </tr>\n",
       "    <tr>\n",
       "      <th>47</th>\n",
       "      <td>48.JPG</td>\n",
       "      <td>[{\"cx\":2774,\"cy\":1044,\"r\":103}]</td>\n",
       "    </tr>\n",
       "    <tr>\n",
       "      <th>...</th>\n",
       "      <td>...</td>\n",
       "      <td>...</td>\n",
       "    </tr>\n",
       "    <tr>\n",
       "      <th>3285</th>\n",
       "      <td>3286.jpg</td>\n",
       "      <td>[{\"cx\":707,\"cy\":510,\"r\":31}]</td>\n",
       "    </tr>\n",
       "    <tr>\n",
       "      <th>3321</th>\n",
       "      <td>3322.JPG</td>\n",
       "      <td>[{\"cx\":46,\"cy\":1635,\"r\":65}, {\"cx\":203,\"cy\":21...</td>\n",
       "    </tr>\n",
       "    <tr>\n",
       "      <th>3327</th>\n",
       "      <td>3328.JPG</td>\n",
       "      <td>[{\"cx\":507,\"cy\":458,\"r\":29}, {\"cx\":542,\"cy\":87...</td>\n",
       "    </tr>\n",
       "    <tr>\n",
       "      <th>3339</th>\n",
       "      <td>3340.JPG</td>\n",
       "      <td>[{\"cx\":605,\"cy\":474,\"r\":15}]</td>\n",
       "    </tr>\n",
       "    <tr>\n",
       "      <th>3370</th>\n",
       "      <td>3371.jpg</td>\n",
       "      <td>[{\"cx\":696,\"cy\":572,\"r\":16}]</td>\n",
       "    </tr>\n",
       "  </tbody>\n",
       "</table>\n",
       "<p>230 rows × 2 columns</p>\n",
       "</div>"
      ],
      "text/plain": [
       "        ID_img                                       region_shape\n",
       "6        7.JPG                       [{\"cx\":515,\"cy\":183,\"r\":16}]\n",
       "24      25.JPG                       [{\"cx\":501,\"cy\":396,\"r\":35}]\n",
       "36      37.JPG  [{\"cx\":1288,\"cy\":2529,\"r\":55}, {\"cx\":1870,\"cy\"...\n",
       "38      39.JPG                        [{\"cx\":753,\"cy\":13,\"r\":28}]\n",
       "47      48.JPG                    [{\"cx\":2774,\"cy\":1044,\"r\":103}]\n",
       "...        ...                                                ...\n",
       "3285  3286.jpg                       [{\"cx\":707,\"cy\":510,\"r\":31}]\n",
       "3321  3322.JPG  [{\"cx\":46,\"cy\":1635,\"r\":65}, {\"cx\":203,\"cy\":21...\n",
       "3327  3328.JPG  [{\"cx\":507,\"cy\":458,\"r\":29}, {\"cx\":542,\"cy\":87...\n",
       "3339  3340.JPG                       [{\"cx\":605,\"cy\":474,\"r\":15}]\n",
       "3370  3371.jpg                       [{\"cx\":696,\"cy\":572,\"r\":16}]\n",
       "\n",
       "[230 rows x 2 columns]"
      ]
     },
     "execution_count": 6,
     "metadata": {},
     "output_type": "execute_result"
    }
   ],
   "source": [
    "solution[solution.region_shape != 0]"
   ]
  },
  {
   "cell_type": "code",
   "execution_count": 7,
   "metadata": {},
   "outputs": [],
   "source": [
    "solution.to_csv(f\"submit_{SUBMIT_NUM}.csv\", index=False)"
   ]
  },
  {
   "cell_type": "code",
   "execution_count": null,
   "metadata": {},
   "outputs": [],
   "source": []
  }
 ],
 "metadata": {
  "kernelspec": {
   "display_name": "Python 3.9.13 ('torch_cuda117')",
   "language": "python",
   "name": "python3"
  },
  "language_info": {
   "codemirror_mode": {
    "name": "ipython",
    "version": 3
   },
   "file_extension": ".py",
   "mimetype": "text/x-python",
   "name": "python",
   "nbconvert_exporter": "python",
   "pygments_lexer": "ipython3",
   "version": "3.9.13"
  },
  "orig_nbformat": 4,
  "vscode": {
   "interpreter": {
    "hash": "8b1484b50a7117fb9f9f1247d5d780ff128b26a062310309279ee8fd41d5d45f"
   }
  }
 },
 "nbformat": 4,
 "nbformat_minor": 2
}
