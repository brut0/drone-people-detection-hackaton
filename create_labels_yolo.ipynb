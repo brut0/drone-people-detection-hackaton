{
 "cells": [
  {
   "cell_type": "markdown",
   "metadata": {},
   "source": [
    "# Create labels in yolo format"
   ]
  },
  {
   "cell_type": "code",
   "execution_count": 1,
   "metadata": {},
   "outputs": [],
   "source": [
    "from os import walk\n",
    "from PIL import Image\n",
    "import pandas as pd"
   ]
  },
  {
   "cell_type": "code",
   "execution_count": 2,
   "metadata": {},
   "outputs": [],
   "source": [
    "TRAIN_PATH = 'train_val/images/'"
   ]
  },
  {
   "cell_type": "code",
   "execution_count": 3,
   "metadata": {},
   "outputs": [
    {
     "data": {
      "text/html": [
       "<div>\n",
       "<style scoped>\n",
       "    .dataframe tbody tr th:only-of-type {\n",
       "        vertical-align: middle;\n",
       "    }\n",
       "\n",
       "    .dataframe tbody tr th {\n",
       "        vertical-align: top;\n",
       "    }\n",
       "\n",
       "    .dataframe thead th {\n",
       "        text-align: right;\n",
       "    }\n",
       "</style>\n",
       "<table border=\"1\" class=\"dataframe\">\n",
       "  <thead>\n",
       "    <tr style=\"text-align: right;\">\n",
       "      <th></th>\n",
       "      <th>ID_img</th>\n",
       "      <th>count_region</th>\n",
       "      <th>region_shape</th>\n",
       "    </tr>\n",
       "  </thead>\n",
       "  <tbody>\n",
       "    <tr>\n",
       "      <th>8</th>\n",
       "      <td>3444.jpg</td>\n",
       "      <td>1.0</td>\n",
       "      <td>['{\"cx\":2259,\"cy\":391,\"r\":64}']</td>\n",
       "    </tr>\n",
       "    <tr>\n",
       "      <th>217</th>\n",
       "      <td>3653.JPG</td>\n",
       "      <td>1.0</td>\n",
       "      <td>['{\"cx\":2719,\"cy\":2097,\"r\":75}']</td>\n",
       "    </tr>\n",
       "    <tr>\n",
       "      <th>254</th>\n",
       "      <td>3690.JPG</td>\n",
       "      <td>1.0</td>\n",
       "      <td>['{\"cx\":2914,\"cy\":1693,\"r\":90}']</td>\n",
       "    </tr>\n",
       "    <tr>\n",
       "      <th>399</th>\n",
       "      <td>3835.JPG</td>\n",
       "      <td>2.0</td>\n",
       "      <td>['{\"cx\":2549,\"cy\":2329,\"r\":80}', '{\"cx\":2437,\"...</td>\n",
       "    </tr>\n",
       "    <tr>\n",
       "      <th>511</th>\n",
       "      <td>3947.JPG</td>\n",
       "      <td>1.0</td>\n",
       "      <td>['{\"cx\":3130,\"cy\":1370,\"r\":134}']</td>\n",
       "    </tr>\n",
       "  </tbody>\n",
       "</table>\n",
       "</div>"
      ],
      "text/plain": [
       "       ID_img  count_region                                       region_shape\n",
       "8    3444.jpg           1.0                    ['{\"cx\":2259,\"cy\":391,\"r\":64}']\n",
       "217  3653.JPG           1.0                   ['{\"cx\":2719,\"cy\":2097,\"r\":75}']\n",
       "254  3690.JPG           1.0                   ['{\"cx\":2914,\"cy\":1693,\"r\":90}']\n",
       "399  3835.JPG           2.0  ['{\"cx\":2549,\"cy\":2329,\"r\":80}', '{\"cx\":2437,\"...\n",
       "511  3947.JPG           1.0                  ['{\"cx\":3130,\"cy\":1370,\"r\":134}']"
      ]
     },
     "execution_count": 3,
     "metadata": {},
     "output_type": "execute_result"
    }
   ],
   "source": [
    "data_df = pd.read_csv(\"train.csv\")\n",
    "data_df[data_df.region_shape != '0.0'].head(5)"
   ]
  },
  {
   "cell_type": "code",
   "execution_count": 4,
   "metadata": {},
   "outputs": [
    {
     "data": {
      "text/plain": [
       "'[\\'{\"cx\":2549,\"cy\":2329,\"r\":80}\\', \\'{\"cx\":2437,\"cy\":2321,\"r\":74}\\']'"
      ]
     },
     "execution_count": 4,
     "metadata": {},
     "output_type": "execute_result"
    }
   ],
   "source": [
    "data_df[data_df.region_shape != '0.0'].region_shape.iloc[3]"
   ]
  },
  {
   "cell_type": "code",
   "execution_count": 6,
   "metadata": {},
   "outputs": [],
   "source": [
    "import ast\n",
    "\n",
    "for _, row in data_df.iterrows():\n",
    "    if row.region_shape == '0.0':\n",
    "        with open(f\"labels/{row.ID_img.split('.')[0]}.txt\", 'w') as file:\n",
    "            file.write('')\n",
    "    else:\n",
    "        with open(f\"labels/{row.ID_img.split('.')[0]}.txt\", 'w') as file:\n",
    "            # bboxes = []\n",
    "            # try:\n",
    "            with Image.open(f\"{TRAIN_PATH}{row.ID_img}\") as img:\n",
    "                x, y = img.size\n",
    "            # except:\n",
    "            #     continue\n",
    "            for d in ast.literal_eval(row.region_shape):\n",
    "                # print(ast.literal_eval(d))\n",
    "                d = ast.literal_eval(d)\n",
    "                bbox = []\n",
    "                bbox.append(0)\n",
    "                bbox.append(round(float(d['cx']) / x, 6))\n",
    "                bbox.append(round(float(d['cy']) / y, 6))\n",
    "                bbox.append(round(float(d['r']) / x, 6))\n",
    "                bbox.append(round(float(d['r']) / y, 6))\n",
    "                file.write(' '.join(map(str, bbox)) + '\\n')\n",
    "                # bboxes.append(bbox)\n",
    "            # print(bboxes)\n",
    "            "
   ]
  }
 ],
 "metadata": {
  "kernelspec": {
   "display_name": "Python 3.9.13 ('torch_cuda117')",
   "language": "python",
   "name": "python3"
  },
  "language_info": {
   "codemirror_mode": {
    "name": "ipython",
    "version": 3
   },
   "file_extension": ".py",
   "mimetype": "text/x-python",
   "name": "python",
   "nbconvert_exporter": "python",
   "pygments_lexer": "ipython3",
   "version": "3.9.13"
  },
  "orig_nbformat": 4,
  "vscode": {
   "interpreter": {
    "hash": "8b1484b50a7117fb9f9f1247d5d780ff128b26a062310309279ee8fd41d5d45f"
   }
  }
 },
 "nbformat": 4,
 "nbformat_minor": 2
}
